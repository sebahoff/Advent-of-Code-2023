{
 "cells": [
  {
   "cell_type": "code",
   "execution_count": 79,
   "metadata": {},
   "outputs": [],
   "source": [
    "from util import read_file_into_lines\n",
    "import functools\n",
    "\n",
    "file_path = './inputs/day07.txt'\n",
    "\n",
    "lines = read_file_into_lines(file_path)"
   ]
  },
  {
   "cell_type": "markdown",
   "metadata": {},
   "source": [
    "### Part 1"
   ]
  },
  {
   "cell_type": "code",
   "execution_count": 80,
   "metadata": {},
   "outputs": [
    {
     "name": "stdout",
     "output_type": "stream",
     "text": [
      "251927063\n"
     ]
    }
   ],
   "source": [
    "card_values = ['2', '3', '4', '5', '6', '7', '8', '9', 'T', 'J','Q', 'K', 'A']\n",
    "\n",
    "hand_values = ['high card', 'pair', 'two pair', 'three of a kind', 'full house', 'four of a kind', 'five of a kind']\n",
    "\n",
    "\n",
    "def check_two_keys_with_value_two(dictionary):\n",
    "    count = 0\n",
    "    for value in dictionary.values():\n",
    "        if value == 2:\n",
    "            count += 1\n",
    "        if count == 2:\n",
    "            return True\n",
    "    return False\n",
    "\n",
    "def evaluate_hand(hand):\n",
    "    card_value = 'unknown'\n",
    "    hand_value = 'unknown'\n",
    "\n",
    "    if any(value == 2 for key, value in hand['dict'].items()): \n",
    "        hand_value = 'pair'\n",
    "    \n",
    "    if (check_two_keys_with_value_two(hand['dict'])):\n",
    "        hand_value = 'two pair'\n",
    "\n",
    "    if any(value == 3 for key, value in hand['dict'].items()) and hand_value == 'pair':\n",
    "        hand_value = 'full house'\n",
    "    elif any(value == 3 for key, value in hand['dict'].items()):\n",
    "        hand_value = 'three of a kind'\n",
    "    \n",
    "    if any(value == 4 for key, value in hand['dict'].items()):\n",
    "        hand_value = 'four of a kind'\n",
    "\n",
    "    if any(value == 5 for key, value in hand['dict'].items()):\n",
    "        hand_value = 'five of a kind'\n",
    "\n",
    "    if hand_value == 'unknown':\n",
    "        hand_value = 'high card'\n",
    "        card_value = card_values[max([card_values.index(card) for card in hand['cards'] if card in card_values])]\n",
    "        \n",
    "\n",
    "    return {'hand_value': hand_value, 'card_value': card_value}\n",
    "    \n",
    "\n",
    "def read_lines_into_hands(lines):\n",
    "    parsed_lines = []\n",
    "    for line in lines:\n",
    "        line_parts = line.strip().split(' ')\n",
    "        \n",
    "        hand = []\n",
    "        for char in line_parts[0]:\n",
    "            hand.append(char)\n",
    "\n",
    "        hand_dict = {}\n",
    "        for card in hand:\n",
    "            if card in hand_dict:\n",
    "                hand_dict[card] += 1\n",
    "            else:\n",
    "                hand_dict[card] = 1\n",
    "\n",
    "        bid = line_parts[1]\n",
    "        parsed_lines.append({'cards': hand, 'dict': hand_dict, 'bid': bid})\n",
    "    return parsed_lines\n",
    "\n",
    "def compare(hand_1, hand_2):\n",
    "    hand_1_strength = hand_values.index(hand_1['value']['hand_value'])\n",
    "    hand_2_strength = hand_values.index(hand_2['value']['hand_value'])\n",
    "\n",
    "    if hand_1_strength < hand_2_strength:\n",
    "        return -1\n",
    "    \n",
    "    if hand_1_strength > hand_2_strength:\n",
    "        return 1\n",
    "    \n",
    "    if hand_1_strength == hand_2_strength: \n",
    "\n",
    "        for index in range(0, 5):\n",
    "            if (card_values.index(hand_1['cards'][index]) < card_values.index(hand_2['cards'][index])):\n",
    "                return -1\n",
    "            if (card_values.index(hand_1['cards'][index]) > card_values.index(hand_2['cards'][index])):\n",
    "                return 1    \n",
    "        return 0\n",
    "\n",
    "hands = read_lines_into_hands(lines)\n",
    "\n",
    "for hand in hands:\n",
    "    hand['value'] = evaluate_hand(hand)\n",
    "\n",
    "sorted_hands = sorted(hands, key=functools.cmp_to_key(compare))\n",
    "\n",
    "result = sum((int(hand['bid']) * (index + 1)) for index, hand in enumerate(sorted_hands))\n",
    "\n",
    "print(result)\n"
   ]
  },
  {
   "cell_type": "markdown",
   "metadata": {},
   "source": [
    "### Part 2"
   ]
  },
  {
   "cell_type": "code",
   "execution_count": 81,
   "metadata": {},
   "outputs": [
    {
     "name": "stdout",
     "output_type": "stream",
     "text": [
      "255632664\n"
     ]
    }
   ],
   "source": [
    "card_values = ['J', '2', '3', '4', '5', '6', '7', '8', '9', 'T', 'Q', 'K', 'A']\n",
    "\n",
    "def read_lines_into_hands(lines):\n",
    "    parsed_lines = []\n",
    "    for line in lines:\n",
    "        line_parts = line.strip().split(' ')\n",
    "        \n",
    "        hand = []\n",
    "        for char in line_parts[0]:\n",
    "            hand.append(char)\n",
    "\n",
    "        hand_dict = {}\n",
    "        for card in hand:\n",
    "            if card in hand_dict and card != 'J':\n",
    "                hand_dict[card] += 1\n",
    "            elif card != 'J':\n",
    "                hand_dict[card] = 1\n",
    "\n",
    "        bid = line_parts[1]\n",
    "        parsed_lines.append({'cards': hand, 'dict': hand_dict, 'bid': bid})\n",
    "    return parsed_lines\n",
    "\n",
    "def is_joker_in_hand(hand):\n",
    "    return 'J' in hand['cards']\n",
    "\n",
    "def upgrade_high_card(amount_of_jokers):\n",
    "    if amount_of_jokers == 1:\n",
    "        return 'pair'\n",
    "    elif amount_of_jokers == 2:\n",
    "        return 'three of a kind'\n",
    "    elif amount_of_jokers == 3:\n",
    "        return 'four of a kind'\n",
    "    elif amount_of_jokers == 4 or amount_of_jokers == 5:\n",
    "        return 'five of a kind'\n",
    "    \n",
    "def upgrade_pair(amount_of_jokers):\n",
    "    if amount_of_jokers == 1:\n",
    "        return 'three of a kind'\n",
    "    elif amount_of_jokers == 2:\n",
    "        return 'four of a kind'\n",
    "    elif amount_of_jokers == 3:\n",
    "        return 'five of a kind'\n",
    "    \n",
    "def upgrade_tree_of_a_kind(amount_of_jokers):\n",
    "    if amount_of_jokers == 1:\n",
    "        return 'four of a kind'\n",
    "    elif amount_of_jokers == 2:\n",
    "        return 'five of a kind'\n",
    "\n",
    "def upgrade_hand_value(hand, hand_value):\n",
    "    amount_of_jokers = hand['cards'].count('J')\n",
    "    \n",
    "    if hand_value == 'high card':\n",
    "        return upgrade_high_card(amount_of_jokers)\n",
    "    elif hand_value == 'pair':\n",
    "        return upgrade_pair(amount_of_jokers)\n",
    "    elif hand_value == 'two pair':\n",
    "        return 'full house'\n",
    "    elif hand_value == 'three of a kind':\n",
    "        return upgrade_tree_of_a_kind(amount_of_jokers)\n",
    "    elif hand_value == 'four of a kind':\n",
    "        return 'five of a kind'\n",
    "    elif amount_of_jokers == 5:\n",
    "        return 'five of a kind'\n",
    "\n",
    "def evaluate_hand(hand):\n",
    "    card_value = 'unknown'\n",
    "    hand_value = 'unknown'\n",
    "\n",
    "    if any(value == 2 for key, value in hand['dict'].items()): \n",
    "        hand_value = 'pair'\n",
    "    \n",
    "    if (check_two_keys_with_value_two(hand['dict'])):\n",
    "        hand_value = 'two pair'\n",
    "\n",
    "    if any(value == 3 for key, value in hand['dict'].items()) and hand_value == 'pair':\n",
    "        hand_value = 'full house'\n",
    "    elif any(value == 3 for key, value in hand['dict'].items()):\n",
    "        hand_value = 'three of a kind'\n",
    "    \n",
    "    if any(value == 4 for key, value in hand['dict'].items()):\n",
    "        hand_value = 'four of a kind'\n",
    "\n",
    "    if any(value == 5 for key, value in hand['dict'].items()):\n",
    "        hand_value = 'five of a kind'\n",
    "\n",
    "    if hand_value == 'unknown':\n",
    "        hand_value = 'high card'\n",
    "        card_value = card_values[max([card_values.index(card) for card in hand['cards'] if card in card_values])]\n",
    "        \n",
    "    if is_joker_in_hand(hand):\n",
    "        hand_value = upgrade_hand_value(hand, hand_value)\n",
    "\n",
    "    return {'hand_value': hand_value, 'card_value': card_value}\n",
    "\n",
    "hands = read_lines_into_hands(lines)\n",
    "\n",
    "for hand in hands:\n",
    "    hand['value'] = evaluate_hand(hand)\n",
    "\n",
    "sorted_hands = sorted(hands, key=functools.cmp_to_key(compare))\n",
    "\n",
    "result = sum((int(hand['bid']) * (index + 1)) for index, hand in enumerate(sorted_hands))\n",
    "\n",
    "print(result)"
   ]
  },
  {
   "cell_type": "markdown",
   "metadata": {},
   "source": [
    "### Test / Debugging"
   ]
  },
  {
   "cell_type": "code",
   "execution_count": 82,
   "metadata": {},
   "outputs": [
    {
     "name": "stdout",
     "output_type": "stream",
     "text": [
      "{'cards': ['J', '4', '4', '4', '4'], 'dict': {'4': 4}, 'bid': '240', 'value': {'hand_value': 'five of a kind', 'card_value': 'unknown'}}\n",
      "hand i value {'hand_value': 'five of a kind', 'card_value': 'unknown'}\n",
      "hand h value {'hand_value': 'high card', 'card_value': 'K'}\n"
     ]
    },
    {
     "data": {
      "text/plain": [
       "1"
      ]
     },
     "execution_count": 82,
     "metadata": {},
     "output_type": "execute_result"
    }
   ],
   "source": [
    "i = 2\n",
    "h = 3\n",
    "\n",
    "print(hands[i])\n",
    "print('hand i value',evaluate_hand(hands[i]))\n",
    "print('hand h value',evaluate_hand(hands[h]))\n",
    "\n",
    "hands[i]['value'] = evaluate_hand(hands[i])\n",
    "hands[h]['value'] = evaluate_hand(hands[h])\n",
    "\n",
    "compare(hands[i], hands[h])"
   ]
  }
 ],
 "metadata": {
  "kernelspec": {
   "display_name": "Python 3",
   "language": "python",
   "name": "python3"
  },
  "language_info": {
   "codemirror_mode": {
    "name": "ipython",
    "version": 3
   },
   "file_extension": ".py",
   "mimetype": "text/x-python",
   "name": "python",
   "nbconvert_exporter": "python",
   "pygments_lexer": "ipython3",
   "version": "3.9.6"
  }
 },
 "nbformat": 4,
 "nbformat_minor": 2
}
