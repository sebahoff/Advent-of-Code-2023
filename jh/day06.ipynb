{
 "cells": [
  {
   "cell_type": "markdown",
   "metadata": {},
   "source": [
    "### Part 1"
   ]
  },
  {
   "cell_type": "code",
   "execution_count": 11,
   "metadata": {},
   "outputs": [
    {
     "name": "stdout",
     "output_type": "stream",
     "text": [
      "[{'race_number': 0, 'time': 48, 'record': 255}, {'race_number': 1, 'time': 87, 'record': 1288}, {'race_number': 2, 'time': 69, 'record': 1117}, {'race_number': 3, 'time': 81, 'record': 1623}]\n",
      "252000\n"
     ]
    }
   ],
   "source": [
    "from functools import reduce\n",
    "from operator import mul\n",
    "\n",
    "with open(\"./inputs/day06.txt\", \"r\") as file:\n",
    "    lines = file.readlines()\n",
    "\n",
    "races = []\n",
    "\n",
    "times = [int(record) for record in lines[0].split(':')[1].split()]\n",
    "distance_records = [int(record) for record in lines[1].split(':')[1].split()]\n",
    "\n",
    "for i, time in enumerate(times):\n",
    "    race = {\"race_number\": i,\"time\": time, \"record\": distance_records[i]}\n",
    "    races.append(race)\n",
    "\n",
    "print(races)\n",
    "\n",
    "\n",
    "def calculate_charging_ranges(time_available):\n",
    "    return range(0, time_available + 1)\n",
    "\n",
    "def calculate_distance(charge, race_duration):\n",
    "    speed = 0 + charge\n",
    "    return (race_duration - charge) * speed\n",
    "\n",
    "race_results = {}\n",
    "\n",
    "for race in races:\n",
    "    for charge in calculate_charging_ranges(race[\"time\"]):\n",
    "        distance = calculate_distance(charge, race.get(\"time\"))\n",
    "\n",
    "        if (distance > race.get('record')):\n",
    "            race_results[race[\"race_number\"]] = race_results.get(race[\"race_number\"], 0) + 1\n",
    "\n",
    "\n",
    "\n",
    "result = reduce(mul, race_results.values())\n",
    "print(result)\n"
   ]
  },
  {
   "cell_type": "markdown",
   "metadata": {},
   "source": [
    "### Part 2"
   ]
  },
  {
   "cell_type": "code",
   "execution_count": 12,
   "metadata": {},
   "outputs": [
    {
     "name": "stdout",
     "output_type": "stream",
     "text": [
      "36992486\n"
     ]
    }
   ],
   "source": [
    "race = {\"time\": int(''.join(lines[0].split(':')[1].split())), \"record\": int(''.join(lines[1].split(':')[1].split()))}\n",
    "count_new_records_possible = 0\n",
    "\n",
    "for charge in calculate_charging_ranges(race[\"time\"]):\n",
    "        distance = calculate_distance(charge, race.get(\"time\"))\n",
    "\n",
    "        if (distance > race.get('record')):\n",
    "            count_new_records_possible+=1\n",
    "\n",
    "\n",
    "print(count_new_records_possible)"
   ]
  }
 ],
 "metadata": {
  "kernelspec": {
   "display_name": "Python 3",
   "language": "python",
   "name": "python3"
  },
  "language_info": {
   "codemirror_mode": {
    "name": "ipython",
    "version": 3
   },
   "file_extension": ".py",
   "mimetype": "text/x-python",
   "name": "python",
   "nbconvert_exporter": "python",
   "pygments_lexer": "ipython3",
   "version": "3.9.6"
  }
 },
 "nbformat": 4,
 "nbformat_minor": 2
}
